{
 "cells": [
  {
   "cell_type": "markdown",
   "id": "36f944c2",
   "metadata": {},
   "source": [
    "# 01_load_gct.ipynb\n",
    "\n",
    "Deze notebook laadt een .gct genexpressie-bestand, voert een log-transformatie uit op TPM-waarden, maakt een boxplot, en slaat het resultaat op als CSV. Dit is de eerste stap in de GBM-classificatie pipeline."
   ]
  },
  {
   "cell_type": "code",
   "execution_count": 3,
   "id": "ce44116b",
   "metadata": {},
   "outputs": [
    {
     "name": "stdout",
     "output_type": "stream",
     "text": [
      "Python versie: 3.11.9 (tags/v3.11.9:de54cf5, Apr  2 2024, 10:12:12) [MSC v.1938 64 bit (AMD64)]\n"
     ]
    }
   ],
   "source": [
    "import sys\n",
    "print(f\"Python versie: {sys.version}\")\n",
    "assert sys.version_info[:2][0] == (3), \"Gebruik Python 3.* voor deze omgeving!\""
   ]
  },
  {
   "cell_type": "code",
   "execution_count": null,
   "id": "819a14e3",
   "metadata": {},
   "outputs": [
    {
     "name": "stdout",
     "output_type": "stream",
     "text": [
      "scikit-learn: 1.6.1\n",
      "matplotlib: 3.10.0\n",
      "pandas: 2.2.3\n",
      "numpy: 2.2.2\n",
      "jupyter NIET gevonden! The 'jupyter' distribution was not found and is required by the application\n",
      "pycombat NIET gevonden! The 'pycombat' distribution was not found and is required by the application\n"
     ]
    }
   ],
   "source": [
    "import pkg_resources\n",
    "required = [\"scikit-learn\", \"matplotlib\", \"pandas\", \"numpy\"]\n",
    "for pkg in required:\n",
    "    try:\n",
    "        dist = pkg_resources.get_distribution(pkg)\n",
    "        print(f\"{pkg}: {dist.version}\")\n",
    "    except Exception as e:\n",
    "        print(f\"{pkg} NIET gevonden! {e}\")"
   ]
  },
  {
   "cell_type": "code",
   "execution_count": 5,
   "id": "057a800f",
   "metadata": {},
   "outputs": [
    {
     "data": {
      "image/png": "[encoded data removed]",
      "text/plain": [
       "<Figure size 640x480 with 1 Axes>"
      ]
     },
     "metadata": {},
     "output_type": "display_data"
    }
   ],
   "source": [
    "import pandas as pd\n",
    "import numpy as np\n",
    "import matplotlib.pyplot as plt\n",
    "\n",
    "# Test DataFrame\n",
    "pd.DataFrame({\"A\": [1,2], \"B\": [3,4]})\n",
    "\n",
    "# Test plot\n",
    "plt.plot([0,1,2], [0,1,4])\n",
    "plt.title(\"Test plot\")\n",
    "plt.show()"
   ]
  },
  {
   "cell_type": "markdown",
   "id": "de82d06a",
   "metadata": {},
   "source": [
    "## Inladen van het .gct genexpressie-bestand\n",
    "\n",
    "We lezen het .gct-bestand in met pandas."
   ]
  },
  {
   "cell_type": "code",
   "execution_count": 6,
   "id": "a2f7f310",
   "metadata": {},
   "outputs": [
    {
     "ename": "FileNotFoundError",
     "evalue": "[Errno 2] No such file or directory: '../data/raw/gene_tpm_v10_brain_cerebellum.gct'",
     "output_type": "error",
     "traceback": [
      "\u001b[1;31m---------------------------------------------------------------------------\u001b[0m",
      "\u001b[1;31mFileNotFoundError\u001b[0m                         Traceback (most recent call last)",
      "Cell \u001b[1;32mIn[6], line 3\u001b[0m\n\u001b[0;32m      1\u001b[0m \u001b[38;5;66;03m# Pad naar het .gct-bestand\u001b[39;00m\n\u001b[0;32m      2\u001b[0m gct_path \u001b[38;5;241m=\u001b[39m \u001b[38;5;124m'\u001b[39m\u001b[38;5;124m../data/raw/gene_tpm_v10_brain_cerebellum.gct\u001b[39m\u001b[38;5;124m'\u001b[39m\n\u001b[1;32m----> 3\u001b[0m \u001b[38;5;28;01mwith\u001b[39;00m \u001b[38;5;28;43mopen\u001b[39;49m\u001b[43m(\u001b[49m\u001b[43mgct_path\u001b[49m\u001b[43m)\u001b[49m \u001b[38;5;28;01mas\u001b[39;00m f:\n\u001b[0;32m      4\u001b[0m     header1 \u001b[38;5;241m=\u001b[39m f\u001b[38;5;241m.\u001b[39mreadline()\n\u001b[0;32m      5\u001b[0m     header2 \u001b[38;5;241m=\u001b[39m f\u001b[38;5;241m.\u001b[39mreadline()\n",
      "File \u001b[1;32m~\\AppData\\Local\\Packages\\PythonSoftwareFoundation.Python.3.11_qbz5n2kfra8p0\\LocalCache\\local-packages\\Python311\\site-packages\\IPython\\core\\interactiveshell.py:324\u001b[0m, in \u001b[0;36m_modified_open\u001b[1;34m(file, *args, **kwargs)\u001b[0m\n\u001b[0;32m    317\u001b[0m \u001b[38;5;28;01mif\u001b[39;00m file \u001b[38;5;129;01min\u001b[39;00m {\u001b[38;5;241m0\u001b[39m, \u001b[38;5;241m1\u001b[39m, \u001b[38;5;241m2\u001b[39m}:\n\u001b[0;32m    318\u001b[0m     \u001b[38;5;28;01mraise\u001b[39;00m \u001b[38;5;167;01mValueError\u001b[39;00m(\n\u001b[0;32m    319\u001b[0m         \u001b[38;5;124mf\u001b[39m\u001b[38;5;124m\"\u001b[39m\u001b[38;5;124mIPython won\u001b[39m\u001b[38;5;124m'\u001b[39m\u001b[38;5;124mt let you open fd=\u001b[39m\u001b[38;5;132;01m{\u001b[39;00mfile\u001b[38;5;132;01m}\u001b[39;00m\u001b[38;5;124m by default \u001b[39m\u001b[38;5;124m\"\u001b[39m\n\u001b[0;32m    320\u001b[0m         \u001b[38;5;124m\"\u001b[39m\u001b[38;5;124mas it is likely to crash IPython. If you know what you are doing, \u001b[39m\u001b[38;5;124m\"\u001b[39m\n\u001b[0;32m    321\u001b[0m         \u001b[38;5;124m\"\u001b[39m\u001b[38;5;124myou can use builtins\u001b[39m\u001b[38;5;124m'\u001b[39m\u001b[38;5;124m open.\u001b[39m\u001b[38;5;124m\"\u001b[39m\n\u001b[0;32m    322\u001b[0m     )\n\u001b[1;32m--> 324\u001b[0m \u001b[38;5;28;01mreturn\u001b[39;00m \u001b[43mio_open\u001b[49m\u001b[43m(\u001b[49m\u001b[43mfile\u001b[49m\u001b[43m,\u001b[49m\u001b[43m \u001b[49m\u001b[38;5;241;43m*\u001b[39;49m\u001b[43margs\u001b[49m\u001b[43m,\u001b[49m\u001b[43m \u001b[49m\u001b[38;5;241;43m*\u001b[39;49m\u001b[38;5;241;43m*\u001b[39;49m\u001b[43mkwargs\u001b[49m\u001b[43m)\u001b[49m\n",
      "\u001b[1;31mFileNotFoundError\u001b[0m: [Errno 2] No such file or directory: '../data/raw/gene_tpm_v10_brain_cerebellum.gct'"
     ]
    }
   ],
   "source": [
    "# Pad naar het .gct-bestand\n",
    "gct_path = '../data/raw/gene_tpm_v10_brain_cerebellum.gct'\n",
    "with open(gct_path) as f:\n",
    "    header1 = f.readline()\n",
    "    header2 = f.readline()\n",
    "df = pd.read_csv(gct_path, sep='\\t', skiprows=2)\n",
    "print(f'Vorm van dataframe: {df.shape}')\n",
    "df.head()"
   ]
  },
  {
   "cell_type": "markdown",
   "id": "23f09ba5",
   "metadata": {},
   "source": [
    "## Log-transformatie van TPM-waarden\n",
    "\n",
    "We voeren een log2(TPM+1) transformatie uit op de expressiewaarden."
   ]
  },
  {
   "cell_type": "code",
   "execution_count": null,
   "id": "696b6bdb",
   "metadata": {},
   "outputs": [
    {
     "data": {
      "text/html": [
       "<div>\n",
       "<style scoped>\n",
       "    .dataframe tbody tr th:only-of-type {\n",
       "        vertical-align: middle;\n",
       "    }\n",
       "\n",
       "    .dataframe tbody tr th {\n",
       "        vertical-align: top;\n",
       "    }\n",
       "\n",
       "    .dataframe thead th {\n",
       "        text-align: right;\n",
       "    }\n",
       "</style>\n",
       "<table border=\"1\" class=\"dataframe\">\n",
       "  <thead>\n",
       "    <tr style=\"text-align: right;\">\n",
       "      <th></th>\n",
       "      <th>Name</th>\n",
       "      <th>Description</th>\n",
       "      <th>GTEX-111FC-3326-SM-5GZYV</th>\n",
       "      <th>GTEX-1128S-2826-SM-5N9DI</th>\n",
       "      <th>GTEX-117XS-3126-SM-5GIDP</th>\n",
       "      <th>GTEX-1192X-3226-SM-5987D</th>\n",
       "      <th>GTEX-11DXW-1026-SM-5H11K</th>\n",
       "      <th>GTEX-11DXY-3126-SM-5N9BT</th>\n",
       "      <th>GTEX-11DYG-2926-SM-5H132</th>\n",
       "      <th>GTEX-11DZ1-2926-SM-5A5KI</th>\n",
       "      <th>...</th>\n",
       "      <th>GTEX-ZAJG-3026-SM-5HL92</th>\n",
       "      <th>GTEX-ZAK1-2926-SM-5HL9S</th>\n",
       "      <th>GTEX-ZDXO-2926-SM-4WKFM</th>\n",
       "      <th>GTEX-ZF28-2926-SM-4WKG1</th>\n",
       "      <th>GTEX-ZUA1-2926-SM-59HL3</th>\n",
       "      <th>GTEX-ZVT3-2926-SM-5GU6M</th>\n",
       "      <th>GTEX-ZVZQ-2826-SM-HL9U2</th>\n",
       "      <th>GTEX-ZYFD-2926-SM-5GID9</th>\n",
       "      <th>GTEX-ZYY3-3026-SM-5GIEJ</th>\n",
       "      <th>GTEX-ZZPT-2926-SM-5EQ5S</th>\n",
       "    </tr>\n",
       "  </thead>\n",
       "  <tbody>\n",
       "    <tr>\n",
       "      <th>0</th>\n",
       "      <td>ENSG00000223972.5</td>\n",
       "      <td>DDX11L1</td>\n",
       "      <td>0.000000</td>\n",
       "      <td>0.000000</td>\n",
       "      <td>0.053314</td>\n",
       "      <td>0.046970</td>\n",
       "      <td>0.000000</td>\n",
       "      <td>0.000000</td>\n",
       "      <td>0.043074</td>\n",
       "      <td>0.045629</td>\n",
       "      <td>...</td>\n",
       "      <td>0.048084</td>\n",
       "      <td>0.000000</td>\n",
       "      <td>0.045767</td>\n",
       "      <td>0.000000</td>\n",
       "      <td>0.000000</td>\n",
       "      <td>0.000000</td>\n",
       "      <td>0.000000</td>\n",
       "      <td>0.000000</td>\n",
       "      <td>0.037940</td>\n",
       "      <td>0.045134</td>\n",
       "    </tr>\n",
       "    <tr>\n",
       "      <th>1</th>\n",
       "      <td>ENSG00000227232.5</td>\n",
       "      <td>WASH7P</td>\n",
       "      <td>3.085657</td>\n",
       "      <td>3.331486</td>\n",
       "      <td>3.160294</td>\n",
       "      <td>2.778137</td>\n",
       "      <td>2.628027</td>\n",
       "      <td>3.029654</td>\n",
       "      <td>3.327124</td>\n",
       "      <td>2.277669</td>\n",
       "      <td>...</td>\n",
       "      <td>2.962569</td>\n",
       "      <td>2.307729</td>\n",
       "      <td>3.110624</td>\n",
       "      <td>2.844026</td>\n",
       "      <td>2.005713</td>\n",
       "      <td>2.954543</td>\n",
       "      <td>3.913818</td>\n",
       "      <td>2.717048</td>\n",
       "      <td>2.657219</td>\n",
       "      <td>2.214436</td>\n",
       "    </tr>\n",
       "    <tr>\n",
       "      <th>2</th>\n",
       "      <td>ENSG00000278267.1</td>\n",
       "      <td>MIR6859-1</td>\n",
       "      <td>0.837023</td>\n",
       "      <td>0.000000</td>\n",
       "      <td>0.000000</td>\n",
       "      <td>0.000000</td>\n",
       "      <td>0.000000</td>\n",
       "      <td>0.000000</td>\n",
       "      <td>0.000000</td>\n",
       "      <td>0.000000</td>\n",
       "      <td>...</td>\n",
       "      <td>0.000000</td>\n",
       "      <td>0.000000</td>\n",
       "      <td>0.000000</td>\n",
       "      <td>0.000000</td>\n",
       "      <td>0.000000</td>\n",
       "      <td>0.000000</td>\n",
       "      <td>0.000000</td>\n",
       "      <td>0.000000</td>\n",
       "      <td>0.000000</td>\n",
       "      <td>0.000000</td>\n",
       "    </tr>\n",
       "    <tr>\n",
       "      <th>3</th>\n",
       "      <td>ENSG00000243485.5</td>\n",
       "      <td>MIR1302-2HG</td>\n",
       "      <td>0.000000</td>\n",
       "      <td>0.000000</td>\n",
       "      <td>0.000000</td>\n",
       "      <td>0.179056</td>\n",
       "      <td>0.094798</td>\n",
       "      <td>0.073930</td>\n",
       "      <td>0.000000</td>\n",
       "      <td>0.089708</td>\n",
       "      <td>...</td>\n",
       "      <td>0.000000</td>\n",
       "      <td>0.000000</td>\n",
       "      <td>0.000000</td>\n",
       "      <td>0.100033</td>\n",
       "      <td>0.000000</td>\n",
       "      <td>0.000000</td>\n",
       "      <td>0.086797</td>\n",
       "      <td>0.105673</td>\n",
       "      <td>0.145880</td>\n",
       "      <td>0.000000</td>\n",
       "    </tr>\n",
       "    <tr>\n",
       "      <th>4</th>\n",
       "      <td>ENSG00000237613.2</td>\n",
       "      <td>FAM138A</td>\n",
       "      <td>0.000000</td>\n",
       "      <td>0.000000</td>\n",
       "      <td>0.000000</td>\n",
       "      <td>0.000000</td>\n",
       "      <td>0.000000</td>\n",
       "      <td>0.000000</td>\n",
       "      <td>0.060721</td>\n",
       "      <td>0.064299</td>\n",
       "      <td>...</td>\n",
       "      <td>0.000000</td>\n",
       "      <td>0.000000</td>\n",
       "      <td>0.064492</td>\n",
       "      <td>0.000000</td>\n",
       "      <td>0.000000</td>\n",
       "      <td>0.000000</td>\n",
       "      <td>0.000000</td>\n",
       "      <td>0.000000</td>\n",
       "      <td>0.000000</td>\n",
       "      <td>0.000000</td>\n",
       "    </tr>\n",
       "  </tbody>\n",
       "</table>\n",
       "<p>5 rows × 268 columns</p>\n",
       "</div>"
      ],
      "text/plain": [
       "                Name  Description  GTEX-111FC-3326-SM-5GZYV  \\\n",
       "0  ENSG00000223972.5      DDX11L1                  0.000000   \n",
       "1  ENSG00000227232.5       WASH7P                  3.085657   \n",
       "2  ENSG00000278267.1    MIR6859-1                  0.837023   \n",
       "3  ENSG00000243485.5  MIR1302-2HG                  0.000000   \n",
       "4  ENSG00000237613.2      FAM138A                  0.000000   \n",
       "\n",
       "   GTEX-1128S-2826-SM-5N9DI  GTEX-117XS-3126-SM-5GIDP  \\\n",
       "0                  0.000000                  0.053314   \n",
       "1                  3.331486                  3.160294   \n",
       "2                  0.000000                  0.000000   \n",
       "3                  0.000000                  0.000000   \n",
       "4                  0.000000                  0.000000   \n",
       "\n",
       "   GTEX-1192X-3226-SM-5987D  GTEX-11DXW-1026-SM-5H11K  \\\n",
       "0                  0.046970                  0.000000   \n",
       "1                  2.778137                  2.628027   \n",
       "2                  0.000000                  0.000000   \n",
       "3                  0.179056                  0.094798   \n",
       "4                  0.000000                  0.000000   \n",
       "\n",
       "   GTEX-11DXY-3126-SM-5N9BT  GTEX-11DYG-2926-SM-5H132  \\\n",
       "0                  0.000000                  0.043074   \n",
       "1                  3.029654                  3.327124   \n",
       "2                  0.000000                  0.000000   \n",
       "3                  0.073930                  0.000000   \n",
       "4                  0.000000                  0.060721   \n",
       "\n",
       "   GTEX-11DZ1-2926-SM-5A5KI  ...  GTEX-ZAJG-3026-SM-5HL92  \\\n",
       "0                  0.045629  ...                 0.048084   \n",
       "1                  2.277669  ...                 2.962569   \n",
       "2                  0.000000  ...                 0.000000   \n",
       "3                  0.089708  ...                 0.000000   \n",
       "4                  0.064299  ...                 0.000000   \n",
       "\n",
       "   GTEX-ZAK1-2926-SM-5HL9S  GTEX-ZDXO-2926-SM-4WKFM  GTEX-ZF28-2926-SM-4WKG1  \\\n",
       "0                 0.000000                 0.045767                 0.000000   \n",
       "1                 2.307729                 3.110624                 2.844026   \n",
       "2                 0.000000                 0.000000                 0.000000   \n",
       "3                 0.000000                 0.000000                 0.100033   \n",
       "4                 0.000000                 0.064492                 0.000000   \n",
       "\n",
       "   GTEX-ZUA1-2926-SM-59HL3  GTEX-ZVT3-2926-SM-5GU6M  GTEX-ZVZQ-2826-SM-HL9U2  \\\n",
       "0                 0.000000                 0.000000                 0.000000   \n",
       "1                 2.005713                 2.954543                 3.913818   \n",
       "2                 0.000000                 0.000000                 0.000000   \n",
       "3                 0.000000                 0.000000                 0.086797   \n",
       "4                 0.000000                 0.000000                 0.000000   \n",
       "\n",
       "   GTEX-ZYFD-2926-SM-5GID9  GTEX-ZYY3-3026-SM-5GIEJ  GTEX-ZZPT-2926-SM-5EQ5S  \n",
       "0                 0.000000                 0.037940                 0.045134  \n",
       "1                 2.717048                 2.657219                 2.214436  \n",
       "2                 0.000000                 0.000000                 0.000000  \n",
       "3                 0.105673                 0.145880                 0.000000  \n",
       "4                 0.000000                 0.000000                 0.000000  \n",
       "\n",
       "[5 rows x 268 columns]"
      ]
     },
     "execution_count": 5,
     "metadata": {},
     "output_type": "execute_result"
    }
   ],
   "source": [
    "# Neem aan dat de eerste twee kolommen annotatie zijn (bijv. Name, Description)\n",
    "expr = df.iloc[:, 2:]\n",
    "expr_log = np.log2(expr + 1)\n",
    "df_log = pd.concat([df.iloc[:, :2], expr_log], axis=1)\n",
    "df_log.head()"
   ]
  },
  {
   "cell_type": "markdown",
   "id": "501fde03",
   "metadata": {},
   "source": [
    "## Boxplot van getransformeerde TPM-waarden\n",
    "\n",
    "Visualiseer de distributie van de log-getransformeerde TPM-waarden."
   ]
  },
  {
   "cell_type": "code",
   "execution_count": null,
   "id": "cbef9308",
   "metadata": {},
   "outputs": [
    {
     "data": {
      "image/png": "[encoded data removed]",
      "text/plain": [
       "<Figure size 1000x400 with 1 Axes>"
      ]
     },
     "metadata": {},
     "output_type": "display_data"
    }
   ],
   "source": [
    "plt.figure(figsize=(10,4))\n",
    "plt.boxplot(expr_log.values.flatten(), vert=False)\n",
    "plt.xlabel('log2(TPM+1)')\n",
    "plt.title('Distributie van log2(TPM+1) expressiewaarden')\n",
    "plt.show()"
   ]
  },
  {
   "cell_type": "markdown",
   "id": "bc9d6bf5",
   "metadata": {},
   "source": [
    "## Opslaan als CSV\n",
    "\n",
    "We slaan het getransformeerde dataframe op als CSV in data/processed/."
   ]
  },
  {
   "cell_type": "code",
   "execution_count": null,
   "id": "b6948d83",
   "metadata": {},
   "outputs": [
    {
     "name": "stdout",
     "output_type": "stream",
     "text": [
      "CSV opgeslagen als: ../data/processed/gene_tpm_v10_brain_cerebellum_log2.csv\n"
     ]
    }
   ],
   "source": [
    "output_path = '../data/processed/gene_tpm_v10_brain_cerebellum_log2.csv'\n",
    "df_log.to_csv(output_path, index=False)\n",
    "print(f'CSV opgeslagen als: {output_path}')"
   ]
  }
 ],
 "metadata": {
  "kernelspec": {
   "display_name": "Python 3",
   "language": "python",
   "name": "python3"
  },
  "language_info": {
   "codemirror_mode": {
    "name": "ipython",
    "version": 3
   },
   "file_extension": ".py",
   "mimetype": "text/x-python",
   "name": "python",
   "nbconvert_exporter": "python",
   "pygments_lexer": "ipython3",
   "version": "3.11.9"
  }
 },
 "nbformat": 4,
 "nbformat_minor": 5
}
