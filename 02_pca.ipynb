{
 "cells": [
  {
   "cell_type": "markdown",
   "id": "e579352b",
   "metadata": {},
   "source": [
    "# Feature Reduction with PCA"
   ]
  },
  {
   "cell_type": "code",
   "execution_count": null,
   "id": "a15948d8",
   "metadata": {},
   "outputs": [],
   "source": [
    "import pandas as pd\n",
    "import numpy as np\n",
    "import matplotlib.pyplot as plt\n",
    "from sklearn.preprocessing import StandardScaler\n",
    "from sklearn.decomposition import PCA\n",
    "from sklearn.ensemble import RandomForestClassifier\n",
    "from sklearn.model_selection import cross_val_score\n",
    "import seaborn as sns\n"
   ]
  },
  {
   "cell_type": "code",
   "execution_count": null,
   "id": "59cddc39",
   "metadata": {},
   "outputs": [],
   "source": [
    "data_path = 'data/processed/combined_labeled.csv'\n",
    "df = pd.read_csv(data_path)"
   ]
  },
  {
   "cell_type": "markdown",
   "id": "cd36c6fa",
   "metadata": {},
   "source": [
    "## Covariance Matrix"
   ]
  },
  {
   "cell_type": "markdown",
   "id": "badb51e7",
   "metadata": {},
   "source": [
    "## Standardizing the Data"
   ]
  },
  {
   "cell_type": "code",
   "execution_count": null,
   "id": "6f45e184",
   "metadata": {},
   "outputs": [],
   "source": [
    "df = df.dropna()"
   ]
  },
  {
   "cell_type": "code",
   "execution_count": null,
   "id": "34cbff7e",
   "metadata": {},
   "outputs": [],
   "source": [
    "# data centered around the origin: healthy\n",
    "X = df.drop(['healthy', 'patient_id'], axis=1)\n",
    "Y = df['healthy']"
   ]
  },
  {
   "cell_type": "code",
   "execution_count": null,
   "id": "0287b101",
   "metadata": {},
   "outputs": [],
   "source": [
    "scaler = StandardScaler()\n",
    "X_scaled = scaler.fit_transform(X)"
   ]
  },
  {
   "cell_type": "code",
   "execution_count": null,
   "id": "2f38740c",
   "metadata": {},
   "outputs": [],
   "source": [
    "pca = PCA().fit(X_scaled)\n",
    "explained = np.cumsum(pca.explained_variance_ratio_)\n",
    "n_components = np.argmax(explained >= 0.95) + 1\n",
    "\n",
    "print(f\"Number of components for >=95% variance: {n_components}\")\n"
   ]
  },
  {
   "cell_type": "code",
   "execution_count": null,
   "id": "4b2741aa",
   "metadata": {},
   "outputs": [],
   "source": [
    "# Visualize explained variance\n",
    "plt.figure()\n",
    "plt.plot(np.arange(1, len(explained)+1), explained, marker='o')\n",
    "plt.xlabel('Number of components')\n",
    "plt.ylabel('Cumulative explained variance')\n",
    "plt.title('Explained variance by PCA components')\n",
    "plt.grid()\n",
    "plt.show()"
   ]
  },
  {
   "cell_type": "code",
   "execution_count": null,
   "id": "1b37b738",
   "metadata": {},
   "outputs": [],
   "source": [
    "clf = RandomForestClassifier(random_state=42)\n",
    "scores_no_pca = cross_val_score(clf, X_scaled, Y, cv=5)\n",
    "print(f\"Accuracy without PCA: {scores_no_pca.mean():.3f}\")\n",
    "\n",
    "pcaN = PCA(n_components=n_components)\n",
    "X_pcaN = pcaN.fit_transform(X_scaled)\n",
    "scores_pca = cross_val_score(clf, X_pcaN,Y, cv=5)\n",
    "print(f\"Accuracy with PCA ({n_components} components): {scores_pca.mean():.3f}\")"
   ]
  }
 ],
 "metadata": {
  "kernelspec": {
   "display_name": ".venv",
   "language": "python",
   "name": "python3"
  },
  "language_info": {
   "codemirror_mode": {
    "name": "ipython",
    "version": 3
   },
   "file_extension": ".py",
   "mimetype": "text/x-python",
   "name": "python",
   "nbconvert_exporter": "python",
   "pygments_lexer": "ipython3",
   "version": "3.12.6"
  }
 },
 "nbformat": 4,
 "nbformat_minor": 5
}
