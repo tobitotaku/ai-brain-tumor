{
 "cells": [
  {
   "cell_type": "markdown",
   "id": "ee5bde5e",
   "metadata": {},
   "source": [
    "# Preprocessing\n",
    "\n",
    "- Used Python `3.13.1`\n",
    "- Folder structure as following:\n",
    "  - Unhealthy data: `data/raw/unhealthy/*/*.tsv` \n",
    "  - Healthy data: `data/raw/healthy.gct`"
   ]
  },
  {
   "cell_type": "markdown",
   "id": "a058c3e5",
   "metadata": {},
   "source": [
    "## Prepare all unhealthy data\n",
    "We read all the files inside the `unhealthy` directory and convert all the `.tsv` data to a unified `.csv` file."
   ]
  },
  {
   "cell_type": "code",
   "execution_count": 9,
   "id": "f778668c",
   "metadata": {},
   "outputs": [],
   "source": [
    "import os\n",
    "import pandas as pd\n",
    "from glob import glob\n",
    "\n",
    "all_files = glob(os.path.join(\"data/raw/unhealthy/\", \"*\", \"*.tsv\"))\n",
    "\n",
    "sample_dict = {}\n",
    "\n",
    "for file_path in all_files:\n",
    "    sample_name = os.path.splitext(os.path.basename(file_path))[0]\n",
    "    try:\n",
    "        df = pd.read_csv(file_path, sep=\"\\t\", skiprows=1, usecols=[\"gene_id\", \"gene_name\", \"tpm_unstranded\"])\n",
    "        df[\"gene_key\"] = df[\"gene_id\"] + \"|\" + df[\"gene_name\"]\n",
    "        df.set_index(\"gene_key\", inplace=True)\n",
    "        sample_dict[sample_name] = df[\"tpm_unstranded\"]\n",
    "    except Exception as e:\n",
    "        print(f\"Error processing {file_path}: {e}\")\n",
    "\n",
    "combined_df = pd.DataFrame(sample_dict)\n",
    "\n",
    "combined_df.index.name = \"gene_key\"\n",
    "combined_df.reset_index(inplace=True)\n",
    "combined_df[[\"gene_id\", \"gene_name\"]] = combined_df[\"gene_key\"].str.split(\"|\", expand=True)\n",
    "combined_df.drop(columns=\"gene_key\", inplace=True)\n",
    "combined_df.set_index([\"gene_id\", \"gene_name\"], inplace=True)\n",
    "combined_df.sort_index(inplace=True)\n",
    "combined_df = combined_df[sorted(combined_df.columns)]\n",
    "\n",
    "combined_df.to_csv(\"data/processed/unhealthy_matrix.csv\")\n"
   ]
  },
  {
   "cell_type": "markdown",
   "id": "7b9aec31",
   "metadata": {},
   "source": [
    "## Preprocess healthy data (.gct)"
   ]
  },
  {
   "cell_type": "code",
   "execution_count": 10,
   "id": "e5a62f23",
   "metadata": {},
   "outputs": [],
   "source": [
    "import pandas as pd\n",
    "\n",
    "gct_df = pd.read_csv(\"data/raw/healthy.gct\", sep='\\t', skiprows=2)\n",
    "\n",
    "gene_id = gct_df[\"Name\"]\n",
    "gene_name = gct_df[\"Description\"]\n",
    "\n",
    "expr_df = gct_df.drop(columns=[\"Name\", \"Description\"])\n",
    "\n",
    "expr_df.insert(0, \"gene_name\", gene_name)\n",
    "expr_df.insert(0, \"gene_id\", gene_id)\n",
    "\n",
    "expr_df.to_csv(\"data/processed/healthy_matrix.csv\", index=False)\n"
   ]
  },
  {
   "cell_type": "markdown",
   "id": "660952cb",
   "metadata": {},
   "source": [
    "## Align the matrixes"
   ]
  },
  {
   "cell_type": "code",
   "execution_count": 11,
   "id": "0b966259",
   "metadata": {},
   "outputs": [],
   "source": [
    "import pandas as pd\n",
    "\n",
    "unhealthy_df = pd.read_csv(\"data/processed/unhealthy_matrix.csv\", index_col=[\"gene_id\", \"gene_name\"])\n",
    "healthy_df = pd.read_csv(\"data/processed/healthy_matrix.csv\", index_col=[\"gene_id\", \"gene_name\"])\n",
    "\n",
    "common_genes = unhealthy_df.index.intersection(healthy_df.index)\n",
    "\n",
    "unhealthy_common = unhealthy_df.loc[common_genes].sort_index()\n",
    "healthy_common = healthy_df.loc[common_genes].sort_index()\n",
    "\n",
    "assert unhealthy_common.shape[0] == healthy_common.shape[0], \"Row mismatch after filtering.\"\n",
    "\n",
    "unhealthy_common.to_csv(\"data/processed/unhealthy_aligned.csv\")\n",
    "healthy_common.to_csv(\"data/processed/healthy_aligned.csv\")\n"
   ]
  },
  {
   "cell_type": "markdown",
   "id": "278e84db",
   "metadata": {},
   "source": [
    "## Combine them into 1 file"
   ]
  },
  {
   "cell_type": "code",
   "execution_count": 12,
   "id": "572ebe03",
   "metadata": {},
   "outputs": [],
   "source": [
    "import pandas as pd\n",
    "\n",
    "healthy = pd.read_csv(\"data/processed/healthy_aligned.csv\", index_col=[\"gene_id\"])\n",
    "unhealthy = pd.read_csv(\"data/processed/unhealthy_aligned.csv\", index_col=[\"gene_id\"])\n",
    "\n",
    "healthy_patients_T = healthy.T\n",
    "unhealthy_patients_T = unhealthy.T\n",
    "\n",
    "healthy_patients_T[\"healthy\"] = 1\n",
    "unhealthy_patients_T[\"healthy\"] = 0\n",
    "\n",
    "healthy_patients_T[\"patient_id\"] = healthy_patients_T.index\n",
    "unhealthy_patients_T[\"patient_id\"] = unhealthy_patients_T.index\n",
    "\n",
    "combined = pd.concat([healthy_patients_T, unhealthy_patients_T], axis=0)\n",
    "\n",
    "gene_cols = [col for col in combined.columns if col not in [\"patient_id\", \"healthy\"]]\n",
    "cols = [\"patient_id\", \"healthy\"] + gene_cols\n",
    "combined = combined[cols]\n",
    "combined = combined[~combined[\"patient_id\"].str.startswith(\"gene_name\")] # Remove gene_name rows\n",
    "\n",
    "combined.to_csv(\"data/processed/combined_labeled.csv\", index=False)\n"
   ]
  },
  {
   "cell_type": "markdown",
   "id": "8b98d92a",
   "metadata": {},
   "source": [
    "## Standardize the values\n",
    "Both our datasets use gene expression values with TPM as type."
   ]
  },
  {
   "cell_type": "code",
   "execution_count": 13,
   "id": "e1ff3378",
   "metadata": {},
   "outputs": [],
   "source": [
    "import pandas as pd\n",
    "from sklearn.preprocessing import StandardScaler\n",
    "\n",
    "df = pd.read_csv(\"data/processed/combined_labeled.csv\")\n",
    "\n",
    "# Identify gene columns\n",
    "gene_cols = [c for c in df.columns if c not in (\"patient_id\", \"healthy\")]\n",
    "\n",
    "# Apply a single standard scaler to all data\n",
    "scaler = StandardScaler()\n",
    "df[gene_cols] = scaler.fit_transform(df[gene_cols])\n",
    "\n",
    "# Save the standardized dataset\n",
    "df.to_csv(\"data/processed/combined_labeled_standardized.csv\", index=False)"
   ]
  }
 ],
 "metadata": {
  "kernelspec": {
   "display_name": "Python 3",
   "language": "python",
   "name": "python3"
  },
  "language_info": {
   "codemirror_mode": {
    "name": "ipython",
    "version": 3
   },
   "file_extension": ".py",
   "mimetype": "text/x-python",
   "name": "python",
   "nbconvert_exporter": "python",
   "pygments_lexer": "ipython3",
   "version": "3.11.9"
  }
 },
 "nbformat": 4,
 "nbformat_minor": 5
}
