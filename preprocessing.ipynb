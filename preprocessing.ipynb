{
 "cells": [
  {
   "cell_type": "markdown",
   "id": "ee5bde5e",
   "metadata": {},
   "source": [
    "# Preprocessing\n",
    "\n",
    "- Used Python `3.13.1`\n",
    "- Folder structure as following:\n",
    "  - Unhealthy data: `data/raw/unhealthy/*/*.tsv` \n",
    "  - Healthy data: `data/raw/healthy.gct`"
   ]
  },
  {
   "cell_type": "markdown",
   "id": "a058c3e5",
   "metadata": {},
   "source": [
    "## Prepare all unhealthy data\n",
    "We read all the files inside the `unhealthy` directory and convert all the `.tsv` data to a unified `.csv` file.\n",
    "\n",
    "# TODO:\n",
    "Normalize the data, on a scale from 0 to 1 (0 = 0% 1 = 100%, 0.5 = 50%)\n",
    "\n",
    "The values from the unhealthy data 0 being 0 and the highest number being 100%, make all other data in that ratio."
   ]
  },
  {
   "cell_type": "code",
   "execution_count": 1,
   "id": "f778668c",
   "metadata": {},
   "outputs": [],
   "source": [
    "import os\n",
    "import pandas as pd\n",
    "from glob import glob\n",
    "\n",
    "# Path to your unhealthy files\n",
    "all_files = glob(os.path.join(\"data/raw/unhealthy/\", \"*\", \"*.tsv\"))\n",
    "\n",
    "sample_dict = {}\n",
    "\n",
    "for file_path in all_files:\n",
    "    sample_name = os.path.splitext(os.path.basename(file_path))[0]\n",
    "    try:\n",
    "        df = pd.read_csv(file_path, sep=\"\\t\", usecols=[\"gene_id\", \"gene_name\", \"copy_number\"])\n",
    "        df[\"gene_key\"] = df[\"gene_id\"] + \"|\" + df[\"gene_name\"]\n",
    "        df.set_index(\"gene_key\", inplace=True)\n",
    "        sample_dict[sample_name] = df[\"copy_number\"]\n",
    "    except Exception as e:\n",
    "        print(f\"Error processing {file_path}: {e}\")\n",
    "\n",
    "# Combine into one matrix\n",
    "combined_df = pd.DataFrame(sample_dict)\n",
    "\n",
    "# Optional: split back gene_id and gene_name for clarity\n",
    "combined_df.index.name = \"gene_key\"\n",
    "combined_df.reset_index(inplace=True)\n",
    "combined_df[[\"gene_id\", \"gene_name\"]] = combined_df[\"gene_key\"].str.split(\"|\", expand=True)\n",
    "combined_df.drop(columns=\"gene_key\", inplace=True)\n",
    "combined_df.set_index([\"gene_id\", \"gene_name\"], inplace=True)\n",
    "\n",
    "# Sort rows and columns\n",
    "combined_df.sort_index(inplace=True)\n",
    "combined_df = combined_df[sorted(combined_df.columns)]\n",
    "\n",
    "# Save to CSV\n",
    "combined_df.to_csv(\"data/processed/unhealthy_matrix.csv\")\n"
   ]
  },
  {
   "cell_type": "markdown",
   "id": "7b9aec31",
   "metadata": {},
   "source": [
    "## Preprocess healthy data (.gct)\n",
    "\n",
    "# TODO:\n",
    "Normalize the data, on a scale from 0 to 1 (0 = 0% 1 = 100%, 0.5 = 50%)\n",
    "\n",
    "The values from the unhealthy data 0 being 0 and the highest number being 100%, make all other data in that ratio."
   ]
  },
  {
   "cell_type": "code",
   "execution_count": 2,
   "id": "e5a62f23",
   "metadata": {},
   "outputs": [],
   "source": [
    "import pandas as pd\n",
    "\n",
    "def gct_to_gene_matrix(filepath: str) -> pd.DataFrame:\n",
    "    # Read GCT file (skip metadata lines)\n",
    "    gct_df = pd.read_csv(filepath, sep='\\t', skiprows=2)\n",
    "\n",
    "    # Extract gene identifiers\n",
    "    gene_id = gct_df[\"Name\"]\n",
    "    gene_name = gct_df[\"Description\"]\n",
    "\n",
    "    # Drop metadata columns\n",
    "    expr_df = gct_df.drop(columns=[\"Name\", \"Description\"])\n",
    "\n",
    "    # Add gene info\n",
    "    expr_df.insert(0, \"gene_name\", gene_name)\n",
    "    expr_df.insert(0, \"gene_id\", gene_id)\n",
    "\n",
    "    # Save to CSV\n",
    "    expr_df.to_csv(\"data/processed/healthy_matrix.csv\", index=False)\n",
    "\n",
    "gct_to_gene_matrix(\"data/raw/healthy.gct\")"
   ]
  },
  {
   "cell_type": "markdown",
   "id": "660952cb",
   "metadata": {},
   "source": [
    "## Align the matrixes"
   ]
  },
  {
   "cell_type": "code",
   "execution_count": 3,
   "id": "0b966259",
   "metadata": {},
   "outputs": [],
   "source": [
    "import pandas as pd\n",
    "\n",
    "# Load both matrices\n",
    "unhealthy_df = pd.read_csv(\"data/processed/unhealthy_matrix.csv\", index_col=[\"gene_id\", \"gene_name\"])\n",
    "healthy_df = pd.read_csv(\"data/processed/healthy_matrix.csv\", index_col=[\"gene_id\", \"gene_name\"])\n",
    "\n",
    "# Find common genes\n",
    "common_genes = unhealthy_df.index.intersection(healthy_df.index)\n",
    "\n",
    "# Filter and sort both datasets to match gene order\n",
    "unhealthy_common = unhealthy_df.loc[common_genes].sort_index()\n",
    "healthy_common = healthy_df.loc[common_genes].sort_index()\n",
    "\n",
    "# Double-check shape alignment\n",
    "assert unhealthy_common.shape[0] == healthy_common.shape[0], \"Row mismatch after filtering.\"\n",
    "\n",
    "# Optional: Save aligned versions\n",
    "unhealthy_common.to_csv(\"data/processed/unhealthy_aligned.csv\")\n",
    "healthy_common.to_csv(\"data/processed/healthy_aligned.csv\")\n"
   ]
  },
  {
   "cell_type": "markdown",
   "id": "278e84db",
   "metadata": {},
   "source": [
    "## Combine them"
   ]
  },
  {
   "cell_type": "code",
   "execution_count": null,
   "id": "572ebe03",
   "metadata": {},
   "outputs": [],
   "source": [
    "import pandas as pd\n",
    "\n",
    "# Load the aligned data - use the correct indices\n",
    "healthy = pd.read_csv(\"data/processed/healthy_aligned.csv\", index_col=[\"gene_id\"])\n",
    "unhealthy = pd.read_csv(\"data/processed/unhealthy_aligned.csv\", index_col=[\"gene_id\"])\n",
    "\n",
    "# Transpose so rows are patients, columns are genes\n",
    "# Convert MultiIndex columns to string to avoid issues\n",
    "healthy_patients_T = healthy.T\n",
    "unhealthy_patients_T = unhealthy.T\n",
    "\n",
    "# Add labels\n",
    "healthy_patients_T[\"healthy\"] = 1\n",
    "unhealthy_patients_T[\"healthy\"] = 0\n",
    "\n",
    "# Add patient_id as a column\n",
    "healthy_patients_T[\"patient_id\"] = healthy_patients_T.index\n",
    "unhealthy_patients_T[\"patient_id\"] = unhealthy_patients_T.index\n",
    "\n",
    "# Combine datasets\n",
    "combined = pd.concat([healthy_patients_T, unhealthy_patients_T], axis=0)\n",
    "\n",
    "# Reorder columns to put patient_id and healthy first\n",
    "gene_cols = [col for col in combined.columns if col not in [\"patient_id\", \"healthy\"]]\n",
    "cols = [\"patient_id\", \"healthy\"] + gene_cols\n",
    "combined = combined[cols]\n",
    "\n",
    "# Save to csv\n",
    "combined.to_csv(\"data/processed/combined_labeled.csv\", index=False)\n"
   ]
  }
 ],
 "metadata": {
  "kernelspec": {
   "display_name": "Python 3",
   "language": "python",
   "name": "python3"
  },
  "language_info": {
   "codemirror_mode": {
    "name": "ipython",
    "version": 3
   },
   "file_extension": ".py",
   "mimetype": "text/x-python",
   "name": "python",
   "nbconvert_exporter": "python",
   "pygments_lexer": "ipython3",
   "version": "3.13.1"
  }
 },
 "nbformat": 4,
 "nbformat_minor": 5
}
