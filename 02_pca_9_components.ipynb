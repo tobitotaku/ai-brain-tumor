{
 "cells": [
  {
   "cell_type": "markdown",
   "id": "e579352b",
   "metadata": {},
   "source": [
    "# PCA"
   ]
  },
  {
   "cell_type": "code",
   "execution_count": null,
   "id": "a15948d8",
   "metadata": {},
   "outputs": [],
   "source": [
    "import pandas as pd\n",
    "import numpy as np\n",
    "import matplotlib.pyplot as plt\n",
    "from sklearn.preprocessing import StandardScaler\n",
    "from sklearn.decomposition import PCA\n",
    "from sklearn.ensemble import RandomForestClassifier\n",
    "from sklearn.model_selection import cross_val_score\n",
    "from sklearn.manifold import TSNE\n"
   ]
  },
  {
   "cell_type": "code",
   "execution_count": null,
   "id": "59cddc39",
   "metadata": {},
   "outputs": [],
   "source": [
    "data_path = 'data/processed/combined_labeled.csv'\n",
    "df = pd.read_csv(data_path)"
   ]
  },
  {
   "cell_type": "code",
   "execution_count": null,
   "id": "34cbff7e",
   "metadata": {},
   "outputs": [],
   "source": [
    "# data centered around the origin: healthy\n",
    "X = df.drop(['healthy', 'patient_id'], axis=1)\n",
    "Y = df['healthy']"
   ]
  },
  {
   "cell_type": "code",
   "execution_count": null,
   "id": "6f45e184",
   "metadata": {},
   "outputs": [],
   "source": [
    "from sklearn.impute import SimpleImputer\n",
    "\n",
    "# df = df.dropna()\n",
    "imputer = SimpleImputer(strategy='constant', fill_value=0)\n",
    "X_imputed = imputer.fit_transform(X)"
   ]
  },
  {
   "cell_type": "code",
   "execution_count": null,
   "id": "2fd55289",
   "metadata": {},
   "outputs": [],
   "source": [
    "X_scaled = StandardScaler().fit_transform(X_imputed)"
   ]
  },
  {
   "cell_type": "code",
   "execution_count": null,
   "id": "0287b101",
   "metadata": {},
   "outputs": [],
   "source": [
    "X = X_imputed"
   ]
  },
  {
   "cell_type": "code",
   "execution_count": null,
   "id": "2f38740c",
   "metadata": {},
   "outputs": [],
   "source": [
    "pca_20 = PCA().fit(X)\n",
    "explained = np.cumsum(pca_20.explained_variance_ratio_)\n",
    "n_components = np.argmax(explained >= 0.95) + 1\n",
    "\n",
    "print(f\"Number of components for >=95% variance: {n_components}\")\n"
   ]
  },
  {
   "cell_type": "code",
   "execution_count": null,
   "id": "4b2741aa",
   "metadata": {},
   "outputs": [],
   "source": [
    "# Visualize explained variance\n",
    "plt.figure()\n",
    "plt.plot(np.arange(1, len(explained)+1), explained, marker='o')\n",
    "plt.xlabel('Number of components')\n",
    "plt.ylabel('Cumulative explained variance')\n",
    "plt.title('Explained variance by PCA components')\n",
    "plt.grid()\n",
    "plt.show()"
   ]
  },
  {
   "cell_type": "code",
   "execution_count": null,
   "id": "1b37b738",
   "metadata": {},
   "outputs": [],
   "source": [
    "clf = RandomForestClassifier(random_state=42)\n",
    "scores_no_pca = cross_val_score(clf, X, Y, cv=5)\n",
    "print(f\"Accuracy without PCA: {scores_no_pca.mean():.3f}\")\n",
    "\n",
    "pcaN = PCA(n_components=n_components)\n",
    "X_pcaN = pcaN.fit_transform(X)\n",
    "scores_pca = cross_val_score(clf, X_pcaN,Y, cv=5)\n",
    "print(f\"Accuracy with PCA ({n_components} components): {scores_pca.mean():.3f}\")"
   ]
  },
  {
   "cell_type": "code",
   "execution_count": null,
   "id": "4edff598",
   "metadata": {},
   "outputs": [],
   "source": [
    "plt.figure(figsize=(10, 8))\n",
    "plt.scatter(X_pcaN[:, 0], X_pcaN[:, 1], c=Y, cmap='viridis', s=10)\n",
    "plt.title('PCA Visualization of Healthy vs. Unhealthy Patients')\n",
    "plt.xlabel('PC 1')\n",
    "plt.ylabel('PC 2')\n",
    "plt.colorbar(label='Healthy (1) vs Unhealthy (0)')\n",
    "plt.show()"
   ]
  },
  {
   "cell_type": "markdown",
   "id": "d26691b3",
   "metadata": {},
   "source": [
    "# SVD Single Value Decomposition (Incremental PCA)"
   ]
  },
  {
   "cell_type": "code",
   "execution_count": null,
   "id": "e88cea05",
   "metadata": {},
   "outputs": [],
   "source": [
    "from sklearn.decomposition import IncrementalPCA\n",
    "\n",
    "ipca = IncrementalPCA(n_components=n_components)\n",
    "X_ipca = ipca.fit_transform(X)\n",
    "\n",
    "explained_ipca = np.cumsum(ipca.explained_variance_ratio_)\n",
    "plt.figure()\n",
    "plt.plot(np.arange(1, len(explained_ipca) + 1), explained_ipca, marker='o')\n",
    "plt.xlabel('Number of components')\n",
    "plt.ylabel('Cumulative explained variance')\n",
    "plt.title('Explained variance by Incremental PCA components')\n",
    "plt.grid()\n",
    "plt.show()"
   ]
  },
  {
   "cell_type": "code",
   "execution_count": null,
   "id": "f6d73beb",
   "metadata": {},
   "outputs": [],
   "source": [
    "# from sklearn.decomposition import TruncatedSVD\n",
    "# svd = TruncatedSVD(n_components=221)\n",
    "# X_svd = svd.fit_transform(X)\n",
    "\n",
    "# X_svd.shape\n",
    "# df_svd = pd.DataFrame({'healthy': Y, 'SVD_1': X_svd})"
   ]
  },
  {
   "cell_type": "code",
   "execution_count": null,
   "id": "f18651e6",
   "metadata": {},
   "outputs": [],
   "source": [
    "import seaborn as sns\n",
    "\n",
    "pca_20 = PCA(n_components=n_components)\n",
    "X_pca_20 = pca_20.fit_transform(X)\n",
    "\n",
    "df_pca = pd.DataFrame( X_pca_20, columns=[f\"PC{i+1}\" for i in range(n_components)])\n",
    "\n",
    "corr_matrix = df_pca.corr()\n",
    "\n",
    "plt.figure(figsize=(12, 10))\n",
    "sns.heatmap(corr_matrix, annot=True, fmt=\".2f\", cmap=\"coolwarm\")\n",
    "plt.title(\"Correlation Matrix of Top 20 PCA Components\")\n",
    "plt.tight_layout()\n",
    "plt.show()\n"
   ]
  },
  {
   "cell_type": "markdown",
   "id": "fd038b36",
   "metadata": {},
   "source": [
    "# LDA"
   ]
  },
  {
   "cell_type": "code",
   "execution_count": null,
   "id": "7f6f8179",
   "metadata": {},
   "outputs": [],
   "source": [
    "from sklearn.discriminant_analysis import LinearDiscriminantAnalysis\n",
    "\n",
    "lda = LinearDiscriminantAnalysis(n_components=1)\n",
    "X_lda = lda.fit_transform(X_imputed, Y)\n",
    "\n",
    "plt.scatter(X_lda, np.zeros_like(X_lda), c=Y, cmap='coolwarm')\n",
    "plt.title(\"LDA Projection\")\n",
    "plt.show()"
   ]
  },
  {
   "cell_type": "code",
   "execution_count": null,
   "id": "95bb3846",
   "metadata": {},
   "outputs": [],
   "source": [
    "import matplotlib.pyplot as plt\n",
    "import numpy as np\n",
    "\n",
    "# Get explained variance ratio\n",
    "explained_var = pcaN.explained_variance_ratio_\n",
    "\n",
    "# Plot first 10 components\n",
    "plt.figure(figsize=(8, 5))\n",
    "plt.bar(range(1, 6), explained_var[:5], alpha=0.7)\n",
    "plt.xlabel('Principal Component')\n",
    "plt.ylabel('Explained Variance Ratio')\n",
    "plt.title('Explained Variance by First 10 PCA Components')\n",
    "plt.grid(axis='y', linestyle='--', alpha=0.6)\n",
    "plt.xticks(np.arange(1, 6))\n",
    "plt.tight_layout()\n",
    "plt.show()"
   ]
  },
  {
   "cell_type": "markdown",
   "id": "043c51af",
   "metadata": {},
   "source": [
    "# TSNE"
   ]
  },
  {
   "cell_type": "code",
   "execution_count": null,
   "id": "14024d1c",
   "metadata": {},
   "outputs": [],
   "source": [
    "tsne = TSNE(n_components=2, random_state=42)\n",
    "X_tsne = tsne.fit_transform(X)\n",
    "plt.figure(figsize=(10, 8))\n",
    "plt.scatter(X_tsne[:, 0], X_tsne[:, 1], c=Y, cmap='viridis', s=10)\n",
    "plt.title('t-SNE Visualization of Healthy vs. Unhealthy Patients')\n",
    "plt.xlabel('t-SNE Component 1')\n",
    "plt.ylabel('t-SNE Component 2')\n",
    "plt.colorbar(label='Healthy (1) vs Unhealthy (0)')\n",
    "plt.show()"
   ]
  }
 ],
 "metadata": {
  "kernelspec": {
   "display_name": ".venv",
   "language": "python",
   "name": "python3"
  },
  "language_info": {
   "codemirror_mode": {
    "name": "ipython",
    "version": 3
   },
   "file_extension": ".py",
   "mimetype": "text/x-python",
   "name": "python",
   "nbconvert_exporter": "python",
   "pygments_lexer": "ipython3",
   "version": "3.12.6"
  }
 },
 "nbformat": 4,
 "nbformat_minor": 5
}
